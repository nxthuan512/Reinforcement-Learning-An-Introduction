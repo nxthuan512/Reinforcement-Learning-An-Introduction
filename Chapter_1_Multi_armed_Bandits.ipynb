{
  "nbformat": 4,
  "nbformat_minor": 0,
  "metadata": {
    "colab": {
      "name": "Chapter 1 - Multi-armed Bandits.ipynb",
      "version": "0.3.2",
      "provenance": [],
      "include_colab_link": true
    },
    "kernelspec": {
      "name": "python3",
      "display_name": "Python 3"
    }
  },
  "cells": [
    {
      "cell_type": "markdown",
      "metadata": {
        "id": "view-in-github",
        "colab_type": "text"
      },
      "source": [
        "<a href=\"https://colab.research.google.com/github/nxthuan512/Reinforcement-Learning-An-Introduction/blob/master/Chapter_1_Multi_armed_Bandits.ipynb\" target=\"_parent\"><img src=\"https://colab.research.google.com/assets/colab-badge.svg\" alt=\"Open In Colab\"/></a>"
      ]
    },
    {
      "metadata": {
        "id": "civjyF6kfvgN",
        "colab_type": "text"
      },
      "cell_type": "markdown",
      "source": [
        "#Introduction"
      ]
    },
    {
      "metadata": {
        "id": "1Ucp_6T0clIg",
        "colab_type": "text"
      },
      "cell_type": "markdown",
      "source": [
        "This notebook shows the codes of the action-value methods mentioned in the **Reinforcement Learning - An Introduction** *(Sutton and Barton March 2018)* textbook. Those code are mainly based on the **Artificial Intelligence: Reinforcement Learning in Python** *Lazy Programmer*.\n",
        "\n",
        "References:\n",
        "1.   [Reinforcement Learning - An Introduction](https://github.com/t0nberryking/Reinforcement-Learning) textbook\n",
        "2.   [Artificial Intelligence: Reinforcement Learning in Python](https://www.udemy.com/artificial-intelligence-reinforcement-learning-in-python) course"
      ]
    },
    {
      "metadata": {
        "id": "idmvVWqufzgK",
        "colab_type": "text"
      },
      "cell_type": "markdown",
      "source": [
        "# Action-Value Methods"
      ]
    },
    {
      "metadata": {
        "id": "koRYkEUcf6vP",
        "colab_type": "text"
      },
      "cell_type": "markdown",
      "source": [
        "## 1. Epsilon-Greedy\n",
        "Ref. 1, Chapter 2.4, pp. 51/548"
      ]
    },
    {
      "metadata": {
        "id": "z1-BoAQEcUYN",
        "colab_type": "code",
        "colab": {}
      },
      "cell_type": "code",
      "source": [
        "from __future__ import print_function, division\n",
        "from builtins import range\n",
        "import numpy as np\n",
        "import matplotlib.pyplot as plt"
      ],
      "execution_count": 0,
      "outputs": []
    },
    {
      "metadata": {
        "id": "d1E1CuOJcnI5",
        "colab_type": "code",
        "colab": {}
      },
      "cell_type": "code",
      "source": [
        "# =====================================================\n",
        "# Class Bandit\n",
        "# =====================================================\n",
        "class Bandit:\n",
        "    def __init__(self, m):\n",
        "        self.m = m\n",
        "        self.mean = 0   # \n",
        "        self.N = 0      # Number of experiments\n",
        "    \n",
        "    # Generate random value whenever pulling    \n",
        "    def pull(self):\n",
        "        return np.random.randn() + self.m\n",
        "    \n",
        "    # Update the mean\n",
        "    def update(self, x):\n",
        "        self.N += 1\n",
        "        self.mean = (1 - 1.0/self.N)*self.mean + (1.0/self.N)*x"
      ],
      "execution_count": 0,
      "outputs": []
    },
    {
      "metadata": {
        "id": "RTO5EHn2cmPu",
        "colab_type": "code",
        "colab": {}
      },
      "cell_type": "code",
      "source": [
        "# =====================================================\n",
        "# Run experiment\n",
        "#    N: Number of experiments\n",
        "# =====================================================\n",
        "def run_epsGreedy (m1, m2, m3, eps, N):\n",
        "    bandits = [Bandit(m1), Bandit(m2), Bandit(m3)]\n",
        "    \n",
        "    reward = np.empty(N)\n",
        "    \n",
        "    for i in range (N):\n",
        "        # Agency selects action based on epsilon greedy\n",
        "        p = np.random.random()\n",
        "        if p < eps:\n",
        "            j = np.random.choice(3)\n",
        "        else:\n",
        "            j = np.argmax([b.mean for b in bandits])\n",
        "        \n",
        "        # Environment generates state\n",
        "        x = bandits[j].pull()\n",
        "        \n",
        "        #\n",
        "        bandits[j].update(x)\n",
        "        \n",
        "        # Agency obtains the reward\n",
        "        reward[i] = x\n",
        "    \n",
        "    # Accumulate average reward\n",
        "    cumm_reward = np.cumsum(reward) / (np.arange(N) + 1)\n",
        "    \n",
        "    # Plot \n",
        "    plt.plot(cumm_reward)\n",
        "#     plt.plot(np.ones(N)*m1)\n",
        "#     plt.plot(np.ones(N)*m2)\n",
        "#     plt.plot(np.ones(N)*m3)\n",
        "    plt.xscale('log')\n",
        "    # plt.show()\n",
        "\n",
        "    print('run_epsGreedy: average award')\n",
        "    for b in bandits:\n",
        "        print(b.mean)\n",
        "\n",
        "    return cumm_reward"
      ],
      "execution_count": 0,
      "outputs": []
    },
    {
      "metadata": {
        "id": "QJOoV75ChqKq",
        "colab_type": "code",
        "colab": {
          "base_uri": "https://localhost:8080/",
          "height": 551
        },
        "outputId": "df920f6d-4946-4372-aa64-1fd7e95a7104"
      },
      "cell_type": "code",
      "source": [
        "# =====================================================\n",
        "# Main function\n",
        "# =====================================================\n",
        "if __name__ == '__main__':\n",
        "    epsGreedy_1 = run_epsGreedy(1.0, 2.0, 3.0, 0.1, 100000)\n",
        "    epsGreedy_05 = run_epsGreedy(1.0, 2.0, 3.0, 0.05, 100000)\n",
        "    epsGreedy_01 = run_epsGreedy(1.0, 2.0, 3.0, 0.01, 100000)\n",
        "    \n",
        "    # log scale plot\n",
        "    plt.plot(epsGreedy_1, label='eps = 0.1')\n",
        "    plt.plot(epsGreedy_05, label='eps = 0.05')\n",
        "    plt.plot(epsGreedy_01, label='eps = 0.01')\n",
        "    plt.legend()\n",
        "    plt.xscale('log')\n",
        "    plt.show()"
      ],
      "execution_count": 5,
      "outputs": [
        {
          "output_type": "stream",
          "text": [
            "run_epsGreedy: average award\n",
            "1.0100270555298398\n",
            "2.0088591975391563\n",
            "3.0023508247634867\n",
            "run_epsGreedy: average award\n",
            "0.983729457126504\n",
            "2.037778317026054\n",
            "3.0028122051915696\n",
            "run_epsGreedy: average award\n",
            "0.899519669153716\n",
            "1.9483918569316692\n",
            "3.0006019874682037\n"
          ],
          "name": "stdout"
        },
        {
          "output_type": "display_data",
          "data": {
            "image/png": "[encoded data removed]",
            "text/plain": [
              "<Figure size 576x396 with 1 Axes>"
            ]
          },
          "metadata": {
            "tags": []
          }
        }
      ]
    },
    {
      "metadata": {
        "id": "yxCIUyqkhsTN",
        "colab_type": "code",
        "colab": {}
      },
      "cell_type": "code",
      "source": [
        ""
      ],
      "execution_count": 0,
      "outputs": []
    }
  ]
}