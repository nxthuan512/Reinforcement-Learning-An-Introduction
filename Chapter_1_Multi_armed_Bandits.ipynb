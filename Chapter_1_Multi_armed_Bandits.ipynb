{
  "nbformat": 4,
  "nbformat_minor": 0,
  "metadata": {
    "colab": {
      "name": "Chapter 1 - Multi-armed Bandits.ipynb",
      "version": "0.3.2",
      "provenance": [],
      "include_colab_link": true
    },
    "kernelspec": {
      "name": "python3",
      "display_name": "Python 3"
    }
  },
  "cells": [
    {
      "cell_type": "markdown",
      "metadata": {
        "id": "view-in-github",
        "colab_type": "text"
      },
      "source": [
        "<a href=\"https://colab.research.google.com/github/nxthuan512/Reinforcement-Learning-An-Introduction/blob/master/Chapter_1_Multi_armed_Bandits.ipynb\" target=\"_parent\"><img src=\"https://colab.research.google.com/assets/colab-badge.svg\" alt=\"Open In Colab\"/></a>"
      ]
    },
    {
      "metadata": {
        "id": "1Ucp_6T0clIg",
        "colab_type": "text"
      },
      "cell_type": "markdown",
      "source": [
        "This notebook shows the codes of the action-value methods mentioned in the **Reinforcement Learning - An Introduction** *(Sutton and Barton March 2018)* textbook. Those code are mainly based on the **Artificial Intelligence: Reinforcement Learning in Python** *Lazy Programmer*."
      ]
    },
    {
      "metadata": {
        "id": "z1-BoAQEcUYN",
        "colab_type": "code",
        "colab": {}
      },
      "cell_type": "code",
      "source": [
        "## F"
      ],
      "execution_count": 0,
      "outputs": []
    },
    {
      "metadata": {
        "id": "d1E1CuOJcnI5",
        "colab_type": "code",
        "colab": {}
      },
      "cell_type": "code",
      "source": [
        ""
      ],
      "execution_count": 0,
      "outputs": []
    },
    {
      "metadata": {
        "id": "RTO5EHn2cmPu",
        "colab_type": "code",
        "colab": {}
      },
      "cell_type": "code",
      "source": [
        ""
      ],
      "execution_count": 0,
      "outputs": []
    }
  ]
}